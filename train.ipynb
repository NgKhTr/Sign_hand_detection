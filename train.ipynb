{
 "cells": [
  {
   "cell_type": "code",
   "execution_count": 1,
   "metadata": {},
   "outputs": [],
   "source": [
    "import sys\n",
    "import os\n",
    "import cv2\n",
    "from tensorflow.keras import Sequential, Input\n",
    "from tensorflow.keras.layers import Dense, Dropout\n",
    "from tensorflow.keras import activations\n",
    "from tensorflow.keras.utils import to_categorical\n",
    "import numpy as np\n",
    "from sklearn.metrics import f1_score, accuracy_score\n",
    "from sklearn.model_selection import train_test_split\n",
    "from generation_model import create_model"
   ]
  },
  {
   "cell_type": "code",
   "execution_count": 3,
   "metadata": {},
   "outputs": [],
   "source": [
    "X = (np.load('./dataset/data.npy', allow_pickle=True)).reshape(4824, 630)\n",
    "X = X[:,:, np.newaxis]\n",
    "\n",
    "y = []\n",
    "for i in range(24):\n",
    "  y = y + [i]*201\n",
    "y = np.array(y)\n",
    "y = to_categorical(y)\n",
    "\n",
    "X_train, X_test, y_train, y_test = train_test_split(X, y, test_size=0.3333)\n",
    "X_train, X_val, y_train, y_val =  train_test_split(X_train, y_train, test_size=0.1429)"
   ]
  },
  {
   "cell_type": "code",
   "execution_count": 4,
   "metadata": {},
   "outputs": [],
   "source": [
    "model = create_model()"
   ]
  },
  {
   "cell_type": "code",
   "execution_count": 5,
   "metadata": {},
   "outputs": [
    {
     "name": "stdout",
     "output_type": "stream",
     "text": [
      "Model: \"sequential\"\n",
      "_________________________________________________________________\n",
      " Layer (type)                Output Shape              Param #   \n",
      "=================================================================\n",
      " dense (Dense)               (None, 1024)              646144    \n",
      "                                                                 \n",
      " dropout (Dropout)           (None, 1024)              0         \n",
      "                                                                 \n",
      " dense_1 (Dense)             (None, 512)               524800    \n",
      "                                                                 \n",
      " dropout_1 (Dropout)         (None, 512)               0         \n",
      "                                                                 \n",
      " dense_2 (Dense)             (None, 256)               131328    \n",
      "                                                                 \n",
      " dropout_2 (Dropout)         (None, 256)               0         \n",
      "                                                                 \n",
      " dense_3 (Dense)             (None, 24)                6168      \n",
      "                                                                 \n",
      "=================================================================\n",
      "Total params: 1,308,440\n",
      "Trainable params: 1,308,440\n",
      "Non-trainable params: 0\n",
      "_________________________________________________________________\n"
     ]
    }
   ],
   "source": [
    "model.summary()"
   ]
  },
  {
   "cell_type": "code",
   "execution_count": 6,
   "metadata": {},
   "outputs": [
    {
     "name": "stdout",
     "output_type": "stream",
     "text": [
      "Epoch 1/15\n",
      "44/44 [==============================] - 2s 23ms/step - loss: 2.2243 - accuracy: 0.4162 - val_loss: 1.1568 - val_accuracy: 0.8087\n",
      "Epoch 2/15\n",
      "44/44 [==============================] - 1s 16ms/step - loss: 0.8273 - accuracy: 0.8589 - val_loss: 0.4028 - val_accuracy: 0.9957\n",
      "Epoch 3/15\n",
      "44/44 [==============================] - 1s 16ms/step - loss: 0.3252 - accuracy: 0.9659 - val_loss: 0.1689 - val_accuracy: 1.0000\n",
      "Epoch 4/15\n",
      "44/44 [==============================] - 1s 17ms/step - loss: 0.1569 - accuracy: 0.9873 - val_loss: 0.0911 - val_accuracy: 1.0000\n",
      "Epoch 5/15\n",
      "44/44 [==============================] - 1s 14ms/step - loss: 0.1043 - accuracy: 0.9891 - val_loss: 0.0622 - val_accuracy: 1.0000\n",
      "Epoch 6/15\n",
      "44/44 [==============================] - 1s 17ms/step - loss: 0.0827 - accuracy: 0.9895 - val_loss: 0.0583 - val_accuracy: 1.0000\n",
      "Epoch 7/15\n",
      "44/44 [==============================] - 1s 16ms/step - loss: 0.0690 - accuracy: 0.9898 - val_loss: 0.0474 - val_accuracy: 1.0000\n",
      "Epoch 8/15\n",
      "44/44 [==============================] - 1s 13ms/step - loss: 0.0498 - accuracy: 0.9946 - val_loss: 0.0226 - val_accuracy: 1.0000\n",
      "Epoch 9/15\n",
      "44/44 [==============================] - 1s 19ms/step - loss: 0.0404 - accuracy: 0.9964 - val_loss: 0.0206 - val_accuracy: 1.0000\n",
      "Epoch 10/15\n",
      "44/44 [==============================] - 1s 17ms/step - loss: 0.0393 - accuracy: 0.9920 - val_loss: 0.0120 - val_accuracy: 1.0000\n",
      "Epoch 11/15\n",
      "44/44 [==============================] - 1s 18ms/step - loss: 0.0230 - accuracy: 0.9996 - val_loss: 0.0084 - val_accuracy: 1.0000\n",
      "Epoch 12/15\n",
      "44/44 [==============================] - 1s 16ms/step - loss: 0.0340 - accuracy: 0.9909 - val_loss: 0.0095 - val_accuracy: 1.0000\n",
      "Epoch 13/15\n",
      "44/44 [==============================] - 1s 16ms/step - loss: 0.0227 - accuracy: 0.9960 - val_loss: 0.0071 - val_accuracy: 1.0000\n",
      "Epoch 14/15\n",
      "44/44 [==============================] - 1s 15ms/step - loss: 0.0193 - accuracy: 0.9967 - val_loss: 0.0051 - val_accuracy: 1.0000\n",
      "Epoch 15/15\n",
      "44/44 [==============================] - 1s 18ms/step - loss: 0.0134 - accuracy: 0.9993 - val_loss: 0.0042 - val_accuracy: 1.0000\n"
     ]
    },
    {
     "data": {
      "text/plain": [
       "<keras.callbacks.History at 0x15b16cd3fa0>"
      ]
     },
     "execution_count": 6,
     "metadata": {},
     "output_type": "execute_result"
    }
   ],
   "source": [
    "epoch = 15\n",
    "batch_size = 64\n",
    "model.fit(x = X_train, y = y_train, batch_size = batch_size, epochs = epoch, validation_data = (X_val, y_val))"
   ]
  },
  {
   "cell_type": "code",
   "execution_count": 7,
   "metadata": {},
   "outputs": [
    {
     "name": "stdout",
     "output_type": "stream",
     "text": [
      "51/51 [==============================] - 1s 8ms/step\n"
     ]
    }
   ],
   "source": [
    "y_pre = model.predict(X_test)\n",
    "\n",
    "_y_pre = np.argmax(y_pre, axis = 1)\n",
    "_y_test = np.argmax(y_test, axis = 1)"
   ]
  },
  {
   "cell_type": "code",
   "execution_count": 8,
   "metadata": {},
   "outputs": [
    {
     "name": "stdout",
     "output_type": "stream",
     "text": [
      "acc: 1.0\n",
      "f1: 1.0\n"
     ]
    }
   ],
   "source": [
    "print(\"acc:\", accuracy_score(_y_pre, _y_test))\n",
    "print(\"f1:\", f1_score(_y_pre, _y_test, average='macro'))"
   ]
  },
  {
   "cell_type": "code",
   "execution_count": 9,
   "metadata": {},
   "outputs": [],
   "source": [
    "model.save_weights(\".\\weights\\weights_ANN.h5\")"
   ]
  }
 ],
 "metadata": {
  "kernelspec": {
   "display_name": "Python 3",
   "language": "python",
   "name": "python3"
  },
  "language_info": {
   "codemirror_mode": {
    "name": "ipython",
    "version": 3
   },
   "file_extension": ".py",
   "mimetype": "text/x-python",
   "name": "python",
   "nbconvert_exporter": "python",
   "pygments_lexer": "ipython3",
   "version": "3.10.5"
  },
  "orig_nbformat": 4
 },
 "nbformat": 4,
 "nbformat_minor": 2
}
